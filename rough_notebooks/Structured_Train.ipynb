{
 "cells": [
  {
   "cell_type": "code",
   "execution_count": 62,
   "metadata": {},
   "outputs": [
    {
     "name": "stdout",
     "output_type": "stream",
     "text": [
      "The autoreload extension is already loaded. To reload it, use:\n",
      "  %reload_ext autoreload\n"
     ]
    }
   ],
   "source": [
    "#%%\n",
    "import argparse\n",
    "from dataloader import *\n",
    "import torch\n",
    "import torch.nn as nn?\n",
    "import torch.nn.functional as F\n",
    "from torch.utils.data import Dataset, DataLoader  # For custom data-sets\n",
    "import matplotlib.pyplot as plt\n",
    "import pytorch_lightning as pl\n",
    "from models.deeplab import Deeplab\n",
    "from utils import *\n",
    "import time\n",
    "from IPython import get_ipython\n",
    "from file_utils import *\n",
    "\n",
    "get_ipython().run_line_magic(\"load_ext\", \"autoreload\")\n",
    "get_ipython().run_line_magic(\"autoreload\", \"2\")\n",
    "import warnings\n",
    "warnings.filterwarnings('ignore')\n"
   ]
  },
  {
   "cell_type": "code",
   "execution_count": 63,
   "metadata": {},
   "outputs": [],
   "source": [
    "def dict_to_args(d):\n",
    "\n",
    "    args = argparse.Namespace()\n",
    "\n",
    "    def dict_to_args_recursive(args, d, prefix=''):\n",
    "        for k, v in d.items():\n",
    "            if type(v) == dict:\n",
    "                dict_to_args_recursive(args, v, prefix=k)\n",
    "            elif type(v) in [tuple, list]:\n",
    "                continue\n",
    "            else:\n",
    "                if prefix:\n",
    "                    args.__setattr__(prefix + '_' + k, v)\n",
    "                else:\n",
    "                    args.__setattr__(k, v)\n",
    "\n",
    "    dict_to_args_recursive(args, d)\n",
    "    return args"
   ]
  },
  {
   "cell_type": "code",
   "execution_count": 64,
   "metadata": {},
   "outputs": [
    {
     "data": {
      "text/plain": [
       "{'experiment_name': 'default_experiment',\n",
       " 'version_number': '01',\n",
       " 'train_data': './data/train_data.csv',\n",
       " 'val_data': './data/val_data.csv',\n",
       " 'test_data': './data/test_data.csv',\n",
       " 'img_size': 256,\n",
       " 'batch_size': 40,\n",
       " 'num_workers': 8,\n",
       " 'num_epochs': 50,\n",
       " 'learning_rate': 0.001,\n",
       " 'hidden_size': 512,\n",
       " 'embedding_size': 300,\n",
       " 'model_type': 'Baseline',\n",
       " 'fine_tune': True}"
      ]
     },
     "execution_count": 64,
     "metadata": {},
     "output_type": "execute_result"
    }
   ],
   "source": [
    "config_dict = read_file('default.json')\n",
    "config_dict"
   ]
  },
  {
   "cell_type": "code",
   "execution_count": 53,
   "metadata": {},
   "outputs": [],
   "source": [
    "# # TODO use a json to read these\n",
    "# batch_size = 40\n",
    "# learning_rate = 1e-3\n",
    "# num_workers = 8\n",
    "# epochs = 50\n",
    "# fine_tune = True\n",
    "# #%%\n",
    "\n",
    "# #%%\n",
    "# print(f\"train size: {len(train_data)}\")\n",
    "# print(f\"val size: {len(val_data)}\")\n",
    "# print(f\"test size: {len(test_data)}\")"
   ]
  },
  {
   "cell_type": "code",
   "execution_count": 54,
   "metadata": {},
   "outputs": [],
   "source": [
    "class Experiment(pl.LightningModule):\n",
    "    def __init__(self, hparams):\n",
    "        super().__init__()\n",
    "        self.hparams = hparams\n",
    "        print(self.hparams)\n",
    "        self.fine_tune = self.hparams.fine_tune\n",
    "        self.model = Deeplab(self.fine_tune)\n",
    "        self.loss = nn.CrossEntropyLoss()\n",
    "        self.lr = hparams.learning_rate\n",
    "        self.batch_size = hparams.batch_size\n",
    "        self.train_data = HypersimDataset(hparams.train_data)\n",
    "        self.val_data = HypersimDataset(hparams.val_data)\n",
    "        self.test_data = HypersimDataset(hparams.test_data)\n",
    "\n",
    "    def forward(self, x):\n",
    "        return self.model(x)\n",
    "\n",
    "    def training_step(self, batch, batch_idx):\n",
    "        img, depth, semseg = batch\n",
    "        output = self(img)\n",
    "        loss = self.loss(output, semseg)\n",
    "        self.log(\"train_loss\", loss, on_epoch=True)\n",
    "        return loss\n",
    "\n",
    "    def validation_step(self, batch, batch_idx):\n",
    "        img, depth, semseg = batch\n",
    "        output = self(img)\n",
    "        pred = output.argmax(1)\n",
    "        loss = self.loss(output, semseg)\n",
    "        IoUs = iou(pred, semseg, self.on_gpu)\n",
    "        acc = pixel_acc(pred, semseg)\n",
    "        return {\"val_loss\": loss, \"val_ious\": IoUs, \"val_acc\": acc}\n",
    "\n",
    "    def validation_epoch_end(self, outputs):\n",
    "        avg_loss = torch.stack([x[\"val_loss\"] for x in outputs]).mean()\n",
    "        IoUs = torch.stack([x[\"val_ious\"] for x in outputs], dim=0).sum(dim=0)\n",
    "        acc = torch.stack([x[\"val_acc\"] for x in outputs]).mean()\n",
    "        mIoU = IoUs[0].sum() / IoUs[1].sum()\n",
    "        self.log(\"val_loss\", avg_loss, prog_bar=True)\n",
    "        self.log(\"val_mIoU\", mIoU, prog_bar=True)\n",
    "        self.log(\"val_acc\", acc, prog_bar=True)\n",
    "\n",
    "    def on_epoch_start(self):\n",
    "        print(\"\\n\")\n",
    "\n",
    "    def test_step(self, batch, batch_idx):\n",
    "        img, depth, semseg = batch\n",
    "        output = self(img)\n",
    "        pred = output.argmax(1)\n",
    "        loss = self.loss(output, semseg)\n",
    "        IoUs = iou(pred, semseg, self.on_gpu)\n",
    "        acc = pixel_acc(pred, semseg)\n",
    "        return {\"test_loss\": loss, \"test_ious\": IoUs, \"test_acc\": acc}\n",
    "\n",
    "    def test_epoch_end(self, outputs):\n",
    "        avg_loss = torch.stack([x[\"test_loss\"] for x in outputs]).mean()\n",
    "        IoUs = torch.stack([x[\"test_ious\"] for x in outputs], dim=0).sum(dim=0)\n",
    "        acc = torch.stack([x[\"test_acc\"] for x in outputs]).mean()\n",
    "        mIoU = IoUs[0].sum() / IoUs[1].sum()\n",
    "        self.log(\"test_loss\", avg_loss)\n",
    "        self.log(\"test_mIoU\", mIoU)\n",
    "        self.log(\"test_acc\", acc)\n",
    "\n",
    "    def configure_optimizers(self):\n",
    "        optim = torch.optim.Adam(self.model.parameters(), lr=self.lr)\n",
    "        return optim\n",
    "\n",
    "    def train_dataloader(self):\n",
    "        train_loader = DataLoader(\n",
    "            self.train_data,\n",
    "            batch_size=self.batch_size,\n",
    "            num_workers=num_workers,\n",
    "            shuffle=True,\n",
    "        )\n",
    "        return train_loader\n",
    "\n",
    "    def val_dataloader(self):\n",
    "        val_loader = DataLoader(\n",
    "            self.val_data, batch_size=self.batch_size, num_workers=num_workers, shuffle=False\n",
    "        )\n",
    "        return val_loader\n",
    "\n",
    "    def test_dataloader(self):\n",
    "        test_loader = DataLoader(\n",
    "            self.test_data,\n",
    "            batch_size=self.batch_size,\n",
    "            num_workers=num_workers,\n",
    "            shuffle=False,\n",
    "        )\n",
    "        return test_loader"
   ]
  },
  {
   "cell_type": "code",
   "execution_count": 70,
   "metadata": {},
   "outputs": [],
   "source": [
    "tb_logger = pl.loggers.TensorBoardLogger(save_dir='./',\n",
    "                                         name=f'{str(config_dict[\"experiment_name\"])}', # This will create different subfolders for your models\n",
    "                                         version=f'v_{str(config_dict[\"version_number\"])}') "
   ]
  },
  {
   "cell_type": "code",
   "execution_count": null,
   "metadata": {},
   "outputs": [
    {
     "name": "stdout",
     "output_type": "stream",
     "text": [
      "\"batch_size\":      40\n",
      "\"embedding_size\":  300\n",
      "\"experiment_name\": default_experiment\n",
      "\"fine_tune\":       True\n",
      "\"hidden_size\":     512\n",
      "\"img_size\":        256\n",
      "\"learning_rate\":   0.001\n",
      "\"model_type\":      Baseline\n",
      "\"num_epochs\":      50\n",
      "\"num_workers\":     8\n",
      "\"test_data\":       ./data/test_data.csv\n",
      "\"train_data\":      ./data/train_data.csv\n",
      "\"val_data\":        ./data/val_data.csv\n",
      "\"version_number\":  01\n"
     ]
    },
    {
     "name": "stderr",
     "output_type": "stream",
     "text": [
      "GPU available: True, used: True\n",
      "TPU available: None, using: 0 TPU cores\n",
      "\n",
      "  | Name  | Type             | Params\n",
      "-------------------------------------------\n",
      "0 | model | Deeplab          | 59.3 M\n",
      "1 | loss  | CrossEntropyLoss | 0     \n",
      "-------------------------------------------\n",
      "59.3 M    Trainable params\n",
      "0         Non-trainable params\n",
      "59.3 M    Total params\n",
      "237.396   Total estimated model params size (MB)\n"
     ]
    },
    {
     "data": {
      "application/vnd.jupyter.widget-view+json": {
       "model_id": "d38da64dc2404ba2a08593fb7f06cd04",
       "version_major": 2,
       "version_minor": 0
      },
      "text/plain": [
       "HBox(children=(FloatProgress(value=1.0, bar_style='info', description='Validation sanity check', layout=Layout…"
      ]
     },
     "metadata": {},
     "output_type": "display_data"
    },
    {
     "data": {
      "application/vnd.jupyter.widget-view+json": {
       "model_id": "ead9f02a0103436496bd998455c06529",
       "version_major": 2,
       "version_minor": 0
      },
      "text/plain": [
       "HBox(children=(FloatProgress(value=1.0, bar_style='info', description='Training', layout=Layout(flex='2'), max…"
      ]
     },
     "metadata": {},
     "output_type": "display_data"
    },
    {
     "name": "stdout",
     "output_type": "stream",
     "text": [
      "\n",
      "\n"
     ]
    },
    {
     "data": {
      "application/vnd.jupyter.widget-view+json": {
       "model_id": "",
       "version_major": 2,
       "version_minor": 0
      },
      "text/plain": [
       "HBox(children=(FloatProgress(value=1.0, bar_style='info', description='Validating', layout=Layout(flex='2'), m…"
      ]
     },
     "metadata": {},
     "output_type": "display_data"
    },
    {
     "name": "stdout",
     "output_type": "stream",
     "text": [
      "\n",
      "\n"
     ]
    }
   ],
   "source": [
    "#%%\n",
    "exp = Experiment(dict_to_args(config_dict))\n",
    "trainer = pl.Trainer(\n",
    "    fast_dev_run=False,\n",
    "    gpus=1,\n",
    "    max_epochs=epochs,\n",
    "    progress_bar_refresh_rate=5,\n",
    "    logger=tb_logger,\n",
    ")\n",
    "#%%\n",
    "trainer.tune(exp)\n",
    "#%%\n",
    "trainer.fit(exp)\n",
    "# trainer.test(exp)\n",
    "#%%"
   ]
  },
  {
   "cell_type": "code",
   "execution_count": null,
   "metadata": {},
   "outputs": [],
   "source": []
  }
 ],
 "metadata": {
  "kernelspec": {
   "display_name": "Python 3",
   "language": "python",
   "name": "python3"
  },
  "language_info": {
   "codemirror_mode": {
    "name": "ipython",
    "version": 3
   },
   "file_extension": ".py",
   "mimetype": "text/x-python",
   "name": "python",
   "nbconvert_exporter": "python",
   "pygments_lexer": "ipython3",
   "version": "3.7.6"
  }
 },
 "nbformat": 4,
 "nbformat_minor": 4
}
